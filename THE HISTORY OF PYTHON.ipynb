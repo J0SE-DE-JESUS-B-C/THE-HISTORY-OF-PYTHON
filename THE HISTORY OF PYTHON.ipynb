{
 "cells": [
  {
   "cell_type": "markdown",
   "id": "f272d5c9",
   "metadata": {},
   "source": [
    "# THE HISTORY OF PYTHON"
   ]
  },
  {
   "cell_type": "markdown",
   "id": "e4a2f63c",
   "metadata": {},
   "source": [
    "### HISTORY\n",
    "The history of PYTHON emerged as a programming language that is known today, emerged in the late 80s, and early 90s by its, creatorGuido Van Rossum.\n",
    "It was developed in December 1989, who at that time was working at the CWI (a Dutch research center); he himself decided to start a project as a hobby to create an ABC programming language which was developed in the same research center ([Juan Pablo](https://platzi.com/blog/historia-python/), 2017)."
   ]
  },
  {
   "attachments": {
    "python%20img.png": {
     "image/png": "[encoded data removed]"
    }
   },
   "cell_type": "markdown",
   "id": "3a94263a",
   "metadata": {},
   "source": [
    "![python%20img.png](attachment:python%20img.png)"
   ]
  },
  {
   "cell_type": "markdown",
   "id": "c9ee82cf",
   "metadata": {},
   "source": [
    "According to ([wikipedia](https://es.wikipedia.org/wiki/Historia_de_Python),s.f), it says that this type of language focused on being easy to use and learning to maintain good potential in its performance, but said hardware available at that time for its creation made its use more difficult and the project did not develop as planned. . Van Rossum, on the other hand, the lead author of Python, continues to play a central role in the direction of the language in the Python community; he is known as a benevolent dictator for life. The word \"Python\" comes from the affection of Mr. Van Rossum for the group Monty Python."
   ]
  },
  {
   "cell_type": "markdown",
   "id": "e27a671b",
   "metadata": {},
   "source": [
    "# MAIN IDEAS USED TO CREATE PYTHON.\n",
    "The main ideas that influenced the creation of python were taken from the ABC program and are the following:\n",
    "\n",
    "* Indentation was one of the ideas that began to be implemented to group the code([Wikipedia](https://es.wikipedia.org/wiki/Historia_de_Python),s.f)\n",
    "* The character (:) to try to indicate that it starts an indented block([Wikipedia](https://es.wikipedia.org/wiki/Historia_de_Python),s.f)\n",
    "* The simplest design of the instructions for python: if, while, for.([Wikipedia](https://es.wikipedia.org/wiki/Historia_de_Python),s.f)\n",
    "* Others also used are Tuples, lists, and dictionaries([Wikipedia](https://es.wikipedia.org/wiki/Historia_de_Python),s.f)\n",
    "* Immutable data types ([Wikipedia](https://es.wikipedia.org/wiki/Historia_de_Python),s.f)\n",
    "* Another idea that was used was not to impose limits, such as the size of an array ([Wikipedia](https://es.wikipedia.org/wiki/Historia_de_Python),s.f)\n",
    "* The \"prompt\" >>> ([Wikipedia](https://es.wikipedia.org/wiki/Historia_de_Python),s.f)"
   ]
  },
  {
   "cell_type": "markdown",
   "id": "41f7db7d",
   "metadata": {},
   "source": [
    "# FIRST VERSIONS"
   ]
  },
  {
   "cell_type": "markdown",
   "id": "8e36e239",
   "metadata": {},
   "source": [
    "These first versions of Python already had classes with inheritance, exception handling, and functions; one of its main fundamental characteristics being modular operation. This allowed it to be a much cleaner and more accessible language for people who had very little knowledge of the field of programming ([Tokio school](https://www.tokioschool.com/noticias/historia-python/),2020).\n",
    "\n",
    "### VERSIONS RELEASED IN THOSE TIMES\n",
    "* In February 1991 the first public version of Python was released; in this case the version was 0.9.0 ([Tokio school](https://www.tokioschool.com/noticias/historia-python/),2020).\n",
    "* In January 1994 the following version 1.0 was released ([Tokio school](https://www.tokioschool.com/noticias/historia-python/),2020).\n",
    "* The third version 2.0 was published in October 2000 ([Tokio school](https://www.tokioschool.com/noticias/historia-python/),2020).\n",
    "* Version 3.0 was released 8 years after 2000 ([Tokio school](https://www.tokioschool.com/noticias/historia-python/),2020).\n",
    "\n"
   ]
  },
  {
   "cell_type": "markdown",
   "id": "7666c0dc",
   "metadata": {},
   "source": [
    "# WHAT IS PYTHON AND WHAT IS IT FOR?\n",
    "\n",
    "According to ([Aula 21](https://www.cursosaula21.com/que-es-python/),s.f) states that in some terms in the technical field, Python is a type of programming language of very high level that is object-oriented, with great built-in dynamics, it is mainly used to create web and software development projects computer scientist. As it is attractive to the field of Rapid Application Development **(RAD)**, it offers access to the dynamic writing opportunity and dynamic linking options.\n",
    "Python is very simple, so it is very easy to understand and learn, as it requires a sufficiently synthetic and unique trace.\n",
    "\n",
    " | ADVANTAGES | DISADVANTAGES |\n",
    "| : --------------------------------------- | --------- --------------------------------------------: |\n",
    "| * simplified in a very fast way | * problems when connecting with a hosting |\n",
    "| * It is elegant and very easy to use | * Some of the libraries are third-party |\n",
    "| * It leaves a lot of learning in addition to being very productive | * In terms of learning in the web part, they are not easy |\n",
    "\n",
    "\n",
    " ([Leonardo Caballero](https://entrenamiento-python-basico.readthedocs.io/es/latest/leccion1/ventajas_desventajas.html),s.f)"
   ]
  },
  {
   "cell_type": "markdown",
   "id": "ef137ce3",
   "metadata": {},
   "source": [
    "\n",
    "Some functions that are very important when using python are those that we will see next in this topic:"
   ]
  },
  {
   "cell_type": "markdown",
   "id": "af7da86f",
   "metadata": {},
   "source": [
    "# THE PRINT STATEMENT"
   ]
  },
  {
   "cell_type": "markdown",
   "id": "71d3b3f1",
   "metadata": {},
   "source": [
    "In any project that you want to carry out in python to show us text or variables, the print () function is usually used. This function print () allows us to show us text on our screen; said text will show us what we are writing; An example of this is shown below:"
   ]
  },
  {
   "cell_type": "markdown",
   "id": "3e2e4825",
   "metadata": {},
   "source": [
    "## EXAMPLE 1\n",
    "In this case we place the variable print, open () and inside the parenthesis we place the word **HELLO WORLD** when running the program it will print the word Hello world and the word **INSERT THE USER NAME**."
   ]
  },
  {
   "cell_type": "code",
   "execution_count": 13,
   "id": "00a86d27",
   "metadata": {},
   "outputs": [
    {
     "name": "stdout",
     "output_type": "stream",
     "text": [
      "HELLO WORLD\n",
      "INSERT THE USER NAME\n"
     ]
    }
   ],
   "source": [
    "print ('HELLO WORLD')\n",
    "print ('INSERT THE USER NAME')"
   ]
  },
  {
   "cell_type": "markdown",
   "id": "a66955e2",
   "metadata": {},
   "source": [
    "## EXAMPLE 2\n",
    "\n",
    "In this case we declare the variable **YOUR_NAME** we put an = and we open \"\" and we place inside the quotation marks **JOS CRUZ** and we declare the variable **YOUR_AGE** we put an = we open \"\" and we place inside the quotes the word **19 YEARS OLD** then we put the variable **print** we open () and inside we put the word **WHAT IS YOUR NAME?**, **YOUR_NAME**, **AND HOW OLD ARE YOU ?**, **YOUR_AGE**, \"\" and then we put the print variable, open () and put the word **HI TEACHER** when running the program, it will print the following word **WHAT IS YOUR NAME? JOS CRUZ AND HOW OLD ARE YOU? 19 YEARS OLD** and the word **HI TEACHER**."
   ]
  },
  {
   "cell_type": "code",
   "execution_count": 77,
   "id": "cbfd97fe",
   "metadata": {},
   "outputs": [],
   "source": [
    "YOUR_NAME = \"JOS CRUZ \"\n",
    "YOUR_AGE = \"19 YEARS OLD\""
   ]
  },
  {
   "cell_type": "code",
   "execution_count": 78,
   "id": "5674e750",
   "metadata": {},
   "outputs": [
    {
     "name": "stdout",
     "output_type": "stream",
     "text": [
      "WHAT IS YOUR NAME? JOS CRUZ  AND HOW OLD ARE YOU?  19 YEARS OLD \n",
      "HI TEACHER\n"
     ]
    }
   ],
   "source": [
    "\n",
    "print(\"WHAT IS YOUR NAME?\", YOUR_NAME, \"AND HOW OLD ARE YOU? \", YOUR_AGE, \"\")\n",
    "print('HI TEACHER')"
   ]
  },
  {
   "cell_type": "markdown",
   "id": "7bb1c0bc",
   "metadata": {},
   "source": [
    "## EXAMPLE 3\n",
    "In this example we insert a seal and declare the variable with the letter ay we place an = and then the word **HELLO WORLD** then we place another cell and we declare the print function and then we open () and place the letter ay inside the parenthesis then We first execute the variable a and then the function at the end will print the word **HELLO WORLD**."
   ]
  },
  {
   "cell_type": "code",
   "execution_count": 16,
   "id": "ba820905",
   "metadata": {},
   "outputs": [],
   "source": [
    "a= \"HELLO WORLD\""
   ]
  },
  {
   "cell_type": "code",
   "execution_count": 17,
   "id": "475a16a6",
   "metadata": {},
   "outputs": [
    {
     "name": "stdout",
     "output_type": "stream",
     "text": [
      "HELLO WORLD\n"
     ]
    }
   ],
   "source": [
    "print(a)"
   ]
  },
  {
   "cell_type": "markdown",
   "id": "9ac22df6",
   "metadata": {},
   "source": [
    "# THE IF-ELSE STATEMENT"
   ]
  },
  {
   "cell_type": "markdown",
   "id": "76439fea",
   "metadata": {},
   "source": [
    "In Python the basic if statement is usually used but it turns out to be insufficient and it is necessary to use a set of these statements or those statements for the condition to be evaluated as **False** ([J2LOGO](https://j2logo.com/python/tutorial/python-if-sentencia/),s.f).\n",
    "\n",
    "For this, the following if-else structure is used, this statement is used as follows:"
   ]
  },
  {
   "cell_type": "markdown",
   "id": "7aa8e03d",
   "metadata": {},
   "source": [
    "## EXAMPLE 1\n",
    "In this example we declare variables then we place the **if** and then we put the operation that we want to perform in this case evaluate which variable is large or smaller then we place the **print** statement and we place a certain phrase then the **else** and we put another print statement, just like we put another phrase when running the program, it will do the following operation so that it gives the result as shown below:"
   ]
  },
  {
   "cell_type": "code",
   "execution_count": 18,
   "id": "e061f131",
   "metadata": {},
   "outputs": [
    {
     "name": "stdout",
     "output_type": "stream",
     "text": [
      "a is less than b\n"
     ]
    }
   ],
   "source": [
    "a = 32\n",
    "b = 156\n",
    "if a < b:\n",
    "    print(\"a is less than b\")\n",
    "else:\n",
    "    print(\"a is greater than b\")"
   ]
  },
  {
   "cell_type": "code",
   "execution_count": 19,
   "id": "66ba1590",
   "metadata": {},
   "outputs": [
    {
     "name": "stdout",
     "output_type": "stream",
     "text": [
      "a is greater than b\n"
     ]
    }
   ],
   "source": [
    "b = 32\n",
    "a = 156\n",
    "if a < b:\n",
    "    print(\"a is less than b\")\n",
    "else:\n",
    "    print(\"a is greater than b\")"
   ]
  },
  {
   "cell_type": "markdown",
   "id": "e7d45edc",
   "metadata": {},
   "source": [
    "## EXAMPLE 2\n",
    "In this exercise we define the variable **x** and assign it a value then we place the **if** and we assign it an operation and then we place the **print** sentence and we put a sentence that you print and continue the same previous step as shown in the example:"
   ]
  },
  {
   "cell_type": "code",
   "execution_count": 37,
   "id": "5cde9787",
   "metadata": {},
   "outputs": [
    {
     "name": "stdout",
     "output_type": "stream",
     "text": [
      "25 is greater than 13\n"
     ]
    }
   ],
   "source": [
    "x = 25\n",
    "if x < 13:\n",
    "    print(f'{x} is less than 13')\n",
    "else:\n",
    "    if x > 13:\n",
    "        print(f'{x} is greater than 13')\n",
    "    else:\n",
    "        print(f'{x} is equal than 13')"
   ]
  },
  {
   "cell_type": "code",
   "execution_count": 35,
   "id": "db06b0c2",
   "metadata": {},
   "outputs": [
    {
     "name": "stdout",
     "output_type": "stream",
     "text": [
      "13 is equal than 13\n"
     ]
    }
   ],
   "source": [
    "x =13\n",
    "if x < 13:\n",
    "    print(f'{x} is less than 13')\n",
    "else:\n",
    "    if x > 13:\n",
    "        print(f'{x} is greater than 13')\n",
    "    else:\n",
    "        print(f'{x} is equal than 13')"
   ]
  },
  {
   "cell_type": "code",
   "execution_count": 79,
   "id": "972924ac",
   "metadata": {},
   "outputs": [
    {
     "name": "stdout",
     "output_type": "stream",
     "text": [
      "10 is less than 13\n"
     ]
    }
   ],
   "source": [
    "a =10\n",
    "if a < 13:\n",
    "    print(f'{a} is less than 13')\n",
    "else:\n",
    "    if x > 13:\n",
    "        print(f'{a} is greater than 13')\n",
    "    else:\n",
    "        print(f'{a} is equal than 13')"
   ]
  },
  {
   "cell_type": "markdown",
   "id": "b3a263f2",
   "metadata": {},
   "source": [
    "## EXAMPLE 3 \n",
    "\n",
    "In this exercise we declare the variable **a** and assign it a value then we place the **if** and we assign an operation to it and then we place the **print** statement and we place a sentence to print and then we place the **elif** statement and we assign an operation to it and we place the print statement and we put a sentence on it and we follow the same previous step as shown in the example:"
   ]
  },
  {
   "cell_type": "code",
   "execution_count": 84,
   "id": "cd5b3fc4",
   "metadata": {},
   "outputs": [
    {
     "name": "stdout",
     "output_type": "stream",
     "text": [
      "45 is less than  123 :)\n"
     ]
    }
   ],
   "source": [
    "a = 45\n",
    "if a < 123:\n",
    "    print(f'{a} is less than  123 :)')\n",
    "elif a > 123:\n",
    "    print(f'{a} is greater than 123 :)')\n",
    "else:\n",
    "    print(f'{a}is equal than 123 :)')"
   ]
  },
  {
   "cell_type": "code",
   "execution_count": 83,
   "id": "6e73f644",
   "metadata": {},
   "outputs": [
    {
     "name": "stdout",
     "output_type": "stream",
     "text": [
      "140 is greater than 123 :)\n"
     ]
    }
   ],
   "source": [
    "a = 140\n",
    "if a < 123:\n",
    "    print(f'{a} is less than  123 :)')\n",
    "elif a > 123:\n",
    "    print(f'{a} is greater than 123 :)')\n",
    "else:\n",
    "    print(f'{a}is equal than 123 :)')"
   ]
  },
  {
   "cell_type": "code",
   "execution_count": 86,
   "id": "bde2da02",
   "metadata": {},
   "outputs": [
    {
     "name": "stdout",
     "output_type": "stream",
     "text": [
      "123 is equal than 123 :)\n"
     ]
    }
   ],
   "source": [
    "a = 123\n",
    "if a < 123:\n",
    "    print(f'{a} is less than  123 :)')\n",
    "elif a > 123:\n",
    "    print(f'{a} is greater than 123 :)')\n",
    "else:\n",
    "    print(f'{a} is equal than 123 :)')"
   ]
  },
  {
   "cell_type": "markdown",
   "id": "09d53cb8",
   "metadata": {},
   "source": [
    "# THE LOOPS.\n",
    "In this topic we will talk about the loops which help us to repeat multiple times some numbers, then I will show the loops that are used in this type of program:\n"
   ]
  },
  {
   "cell_type": "markdown",
   "id": "81769e9c",
   "metadata": {},
   "source": [
    "## KINDS OF LOOPS\n",
    "\n",
    "* Loop while ([TUTORIAL PYTHON](https://tutorial.recursospython.com/bucles/),s.f).\n",
    "* loop for ([TUTORIAL PYTHON](https://tutorial.recursospython.com/bucles/),s.f).\n"
   ]
  },
  {
   "cell_type": "markdown",
   "id": "19d30edb",
   "metadata": {},
   "source": [
    "# THE lOOP WHILE\n",
    "In Python a word is used that turns out to be called while this allows us to execute cycles, or sequences that are repeated several times also allow us to execute multiple codes at the same time.\n",
    "This while loop allows us to perform a result of a logical expression that can result in a True or False value ([Leonardo Caballero](https://entrenamiento-python-basico.readthedocs.io/es/latest/leccion4/bucle_while.html),s.f).\n",
    "\n",
    "For example:"
   ]
  },
  {
   "cell_type": "markdown",
   "id": "81cae391",
   "metadata": {},
   "source": [
    "## EXEMPLE 1\n",
    "In this exercise, placing a variable with its value and a while with its respective operation and then a sum of 10 plus the variable 30 will print a series of numbers up to 100."
   ]
  },
  {
   "cell_type": "code",
   "execution_count": 88,
   "id": "3962dac2",
   "metadata": {},
   "outputs": [
    {
     "name": "stdout",
     "output_type": "stream",
     "text": [
      "40\n",
      "50\n",
      "60\n",
      "70\n",
      "80\n",
      "90\n",
      "100\n"
     ]
    }
   ],
   "source": [
    "a=30\n",
    "while a<100:\n",
    "    a=(a+10)\n",
    "    print (a)\n"
   ]
  },
  {
   "cell_type": "markdown",
   "id": "0c396b19",
   "metadata": {},
   "source": [
    "## THE LOOP FOR \n",
    "The for loop is a loop that helps us to repeat some blocks of instructions with a series of predetermined numbers.\n",
    "This block of instructions is repeated and is usually called the body of the loop and iteration ([mclibre](https://www.mclibre.org/consultar/python/lecciones/python-for.html#Paso035),s.f).\n"
   ]
  },
  {
   "cell_type": "markdown",
   "id": "949e2503",
   "metadata": {},
   "source": [
    "## EXAMPLE 2\n",
    "In this example it shows us how easy it can be to use a for loop, first we put a print with a phrase of put we put two **print** with () then we put the loop **for** and we put a **i** that this means a control in such a way that when it happens with the **end =** it will print the word **HELLO WORLD** and it will do it several times in the part of the **for** loop since we put 7 ones which will print the same word **HELLO WORLD** 7 times and at the end execute the word **STAR**."
   ]
  },
  {
   "cell_type": "code",
   "execution_count": 76,
   "id": "6aa994c8",
   "metadata": {},
   "outputs": [
    {
     "name": "stdout",
     "output_type": "stream",
     "text": [
      "STAR\n",
      "\n",
      "\n",
      "HELLO WORLD HELLO WORLD HELLO WORLD HELLO WORLD HELLO WORLD HELLO WORLD HELLO WORLD \n",
      "\n",
      "FINISH\n"
     ]
    }
   ],
   "source": [
    "print(\"STAR\")\n",
    "print ()\n",
    "print()\n",
    "for i in [1, 1, 1,1,1,1,1]:\n",
    "    print(\"HELLO WORLD \", end=\"\")\n",
    "print()\n",
    "print()\n",
    "print(\"FINISH\")"
   ]
  },
  {
   "cell_type": "markdown",
   "id": "f796493b",
   "metadata": {},
   "source": [
    "# CONCLUSION"
   ]
  },
  {
   "cell_type": "markdown",
   "id": "3c1b180c",
   "metadata": {},
   "source": [
    "In conclusion python is here to stay since it facilitates us when creating programs compared to the c ++ language since to finish a function to perform you have to put the; compared to python since by putting the parentheses with that the program would already run compared to the c ++ language besides that it also has more accessibility to use it; It can also be used in vast object-oriented projects as well as we also saw a little history of it and how the power of intelligence helps us create great things."
   ]
  },
  {
   "cell_type": "markdown",
   "id": "cd069bc5",
   "metadata": {},
   "source": [
    "# BICLIOGRAFIA\n",
    "[Historia de Python](https://www.tokioschool.com/noticias/historia-python/)\n",
    "\n",
    "[Versiones de Python](https://www.tokioschool.com/noticias/historia-python/)\n",
    "\n",
    "[Ventajas y desventajas de Python](https://entrenamiento-python-basico.readthedocs.io/es/latest/leccion1/ventajas_desventajas.html)\n",
    "\n",
    "[if-Else](https://j2logo.com/python/tutorial/python-if-sentencia/)\n",
    "\n",
    "[loop for](https://www.mclibre.org/consultar/python/lecciones/python-for.html#Paso035)\n",
    "\n",
    "[Hystory of python](https://es.wikipedia.org/wiki/Historia_de_Python#:~:text=La%20historia%20del%20lenguaje%20de,entre%20otras%20cosas%2C%20actualmente%20alberga)\n",
    "\n",
    "[loop While](https://entrenamiento-python-basico.readthedocs.io/es/latest/leccion4/bucle_while.html)\n",
    "\n",
    "[Python](https://www.cursosaula21.com/que-es-python/)\n",
    "\n",
    "[Que es python](https://desarrolloweb.com/articulos/1325.php)\n",
    "\n",
    "[History of python](https://platzi.com/blog/historia-python/)\n",
    "\n",
    "\n",
    "\n"
   ]
  },
  {
   "cell_type": "code",
   "execution_count": null,
   "id": "a9ef8d1d",
   "metadata": {},
   "outputs": [],
   "source": []
  }
 ],
 "metadata": {
  "kernelspec": {
   "display_name": "Python 3 (ipykernel)",
   "language": "python",
   "name": "python3"
  },
  "language_info": {
   "codemirror_mode": {
    "name": "ipython",
    "version": 3
   },
   "file_extension": ".py",
   "mimetype": "text/x-python",
   "name": "python",
   "nbconvert_exporter": "python",
   "pygments_lexer": "ipython3",
   "version": "3.9.7"
  }
 },
 "nbformat": 4,
 "nbformat_minor": 5
}
